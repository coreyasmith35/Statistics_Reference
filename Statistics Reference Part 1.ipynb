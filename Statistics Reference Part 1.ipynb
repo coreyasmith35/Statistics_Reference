{
 "cells": [
  {
   "cell_type": "markdown",
   "metadata": {},
   "source": [
    "# Statistics Reference Part 1"
   ]
  },
  {
   "cell_type": "markdown",
   "metadata": {},
   "source": [
    "## Table of Contents:\n",
    "* [Types of Skew](#skew)\n",
    "* [Variance](#Variance)\n",
    "* [Standard Deviation](#Standard Deviation)\n",
    "* [Coefficient of Variation](#Coefficient of Variation)"
   ]
  },
  {
   "cell_type": "markdown",
   "metadata": {},
   "source": [
    "| <h3>Population (N):</h3> | <h3>Sample (n):</h3>\n",
    "| :--------------------------------- | :-\n",
    "| Collection of all items of interest in the study | A subset of the poulation\n",
    "| Paramaters | Statistics"
   ]
  },
  {
   "cell_type": "markdown",
   "metadata": {},
   "source": [
    "## Types of Skew <a class=\"anchor\" id=\"skew\"></a>"
   ]
  },
  {
   "cell_type": "code",
   "execution_count": 32,
   "metadata": {},
   "outputs": [
    {
     "data": {
      "text/plain": [
       "Text(0.5,1,'Left Skewed')"
      ]
     },
     "execution_count": 32,
     "metadata": {},
     "output_type": "execute_result"
    },
    {
     "data": {
      "image/png": "[encoded data removed]",
      "text/plain": [
       "<matplotlib.figure.Figure at 0x2689bd1bd68>"
      ]
     },
     "metadata": {},
     "output_type": "display_data"
    }
   ],
   "source": [
    "import numpy as np\n",
    "import matplotlib.pyplot as plt\n",
    "%matplotlib inline\n",
    "\n",
    "right_skewed = np.random.exponential(size = 1000)\n",
    "normal_skewed = np.random.normal(size=1000)\n",
    "left_skewed = -np.random.exponential(size=1000)\n",
    "\n",
    "\n",
    "# plot both together to compare\n",
    "fig, ax=plt.subplots(1,3)\n",
    "ax[0].hist(right_skewed, bins=20)\n",
    "ax[0].set_title(\"Right Skewed\")\n",
    "ax[1].hist(normal_skewed, bins=20)\n",
    "ax[1].set_title(\"Normal\")\n",
    "ax[2].hist(left_skewed, bins=20)\n",
    "ax[2].set_title(\"Left Skewed\")"
   ]
  },
  {
   "cell_type": "markdown",
   "metadata": {},
   "source": [
    "## Variance <a class=\"anchor\" id=\"Variance\"></a>"
   ]
  },
  {
   "cell_type": "markdown",
   "metadata": {},
   "source": [
    " - measures the dispersion of a set of data points around their mean."
   ]
  },
  {
   "cell_type": "markdown",
   "metadata": {},
   "source": [
    "\n",
    "\n",
    "\\begin{align}\n",
    "\\textbf{Population Variance} && \\textbf{Sample Variance} \\\\\n",
    "               \\sigma^2 = \\frac{\\sum_{i=1}^N (x_i-\\mu)^2}{N} &&\n",
    "               S^2 = \\frac{\\sum_{i=1}^n (x_i-\\bar{x})^2}{n-1}\n",
    "\\end{align}\n"
   ]
  },
  {
   "cell_type": "code",
   "execution_count": 52,
   "metadata": {},
   "outputs": [],
   "source": [
    "def getVariance(data):\n",
    "    \"\"\" Input: np.array\n",
    "        Returns: Sample Variance\"\"\"\n",
    "    \n",
    "    mean = data.mean()\n",
    "    numerator = 0\n",
    "    \n",
    "    for num in data:\n",
    "        numerator += (num - mean)**2\n",
    "    \n",
    "    variance = numerator/data.size - 1\n",
    "    \n",
    "    return variance"
   ]
  },
  {
   "cell_type": "code",
   "execution_count": 53,
   "metadata": {},
   "outputs": [
    {
     "name": "stdout",
     "output_type": "stream",
     "text": [
      "right_skewed Variance: 0.0497442803543\n"
     ]
    }
   ],
   "source": [
    "print(\"right_skewed Variance:\",getVariance(right_skewed))"
   ]
  },
  {
   "cell_type": "markdown",
   "metadata": {},
   "source": [
    "### Standard Deviation <a class=\"anchor\" id=\"Standard Deviation\"></a>"
   ]
  },
  {
   "cell_type": "code",
   "execution_count": null,
   "metadata": {
    "collapsed": true
   },
   "outputs": [],
   "source": []
  },
  {
   "cell_type": "markdown",
   "metadata": {},
   "source": [
    "### Coefficient of Variation  <a class=\"anchor\" id=\"Coefficient of Variation\"></a>"
   ]
  },
  {
   "cell_type": "code",
   "execution_count": null,
   "metadata": {
    "collapsed": true
   },
   "outputs": [],
   "source": []
  }
 ],
 "metadata": {
  "kernelspec": {
   "display_name": "Python 3",
   "language": "python",
   "name": "python3"
  },
  "language_info": {
   "codemirror_mode": {
    "name": "ipython",
    "version": 3
   },
   "file_extension": ".py",
   "mimetype": "text/x-python",
   "name": "python",
   "nbconvert_exporter": "python",
   "pygments_lexer": "ipython3",
   "version": "3.6.3"
  }
 },
 "nbformat": 4,
 "nbformat_minor": 2
}

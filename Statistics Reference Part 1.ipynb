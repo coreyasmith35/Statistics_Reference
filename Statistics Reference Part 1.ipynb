{
 "cells": [
  {
   "cell_type": "markdown",
   "metadata": {},
   "source": [
    "# Statistics Reference Part 1"
   ]
  },
  {
   "cell_type": "markdown",
   "metadata": {},
   "source": [
    "## Table of Contents:\n",
    "* [Types of Skew](#skew)\n",
    "* [Variance](#Variance)\n",
    "* [Standard Deviation](#Standard Deviation)\n",
    "* [Coefficient of Variation](#Coefficient of Variation)\n",
    "* [Comparing Variance, Standard Deviation and Coefficient of Variation](#comp)"
   ]
  },
  {
   "cell_type": "markdown",
   "metadata": {},
   "source": [
    "| <h3>Population (N)</h3> | <h3>Sample (n)</h3>\n",
    "| :--------------------------------- | :-\n",
    "| Collection of all items of interest in the study | A subset of the poulation\n",
    "| Paramaters | Statistics"
   ]
  },
  {
   "cell_type": "markdown",
   "metadata": {},
   "source": [
    "## Types of Skew <a class=\"anchor\" id=\"skew\"></a>"
   ]
  },
  {
   "cell_type": "code",
   "execution_count": 52,
   "metadata": {},
   "outputs": [
    {
     "data": {
      "text/plain": [
       "Text(0.5,1,'Left Skewed')"
      ]
     },
     "execution_count": 52,
     "metadata": {},
     "output_type": "execute_result"
    },
    {
     "data": {
      "image/png": "[encoded data removed]",
      "text/plain": [
       "<matplotlib.figure.Figure at 0x10edf07b8>"
      ]
     },
     "metadata": {},
     "output_type": "display_data"
    }
   ],
   "source": [
    "import numpy as np\n",
    "import matplotlib.pyplot as plt\n",
    "import pandas as pd\n",
    "%matplotlib inline\n",
    "\n",
    "right_skewed = np.random.exponential(size = 1000)\n",
    "normal_skewed = np.random.normal(size=1000)\n",
    "left_skewed = -np.random.exponential(size=1000)\n",
    "\n",
    "\n",
    "# plot both together to compare\n",
    "fig, ax=plt.subplots(1,3)\n",
    "ax[0].hist(right_skewed, bins=20)\n",
    "ax[0].set_title(\"Right Skewed\")\n",
    "ax[1].hist(normal_skewed, bins=20)\n",
    "ax[1].set_title(\"Normal\")\n",
    "ax[2].hist(left_skewed, bins=20)\n",
    "ax[2].set_title(\"Left Skewed\")"
   ]
  },
  {
   "cell_type": "markdown",
   "metadata": {},
   "source": [
    "## Variance <a class=\"anchor\" id=\"Variance\"></a>"
   ]
  },
  {
   "cell_type": "markdown",
   "metadata": {},
   "source": [
    " - measures the dispersion of a set of data points around their mean."
   ]
  },
  {
   "cell_type": "markdown",
   "metadata": {},
   "source": [
    "\n",
    "\n",
    "\\begin{align}\n",
    "\\textbf{Population Variance} && \\textbf{Sample Variance} \\\\\n",
    "               \\sigma^2 = \\frac{\\sum_{i=1}^N (x_i-\\mu)^2}{N} &&\n",
    "               S^2 = \\frac{\\sum_{i=1}^n (x_i-\\bar{x})^2}{n-1}\n",
    "\\end{align}\n"
   ]
  },
  {
   "cell_type": "code",
   "execution_count": 136,
   "metadata": {},
   "outputs": [],
   "source": [
    "def getVariance(data, isSample = False):\n",
    "    \"\"\" Paramaters: \n",
    "            - np.array, contains the data\n",
    "            - isSample, determants to calculate sample or population variance\n",
    "        Returns: Variance\"\"\"\n",
    "    \n",
    "    mean = data.mean()\n",
    "    numerator = 0\n",
    "    \n",
    "    for num in data:\n",
    "        numerator += (num - mean)**2\n",
    "    \n",
    "    if isSample:\n",
    "        variance = numerator/data.size - 1\n",
    "    else :\n",
    "        variance = numerator/data.size\n",
    "    \n",
    "    return variance"
   ]
  },
  {
   "cell_type": "code",
   "execution_count": 137,
   "metadata": {},
   "outputs": [
    {
     "name": "stdout",
     "output_type": "stream",
     "text": [
      "Variance: 0.9539084032127366\n"
     ]
    }
   ],
   "source": [
    "variance = getVariance(right_skewed)\n",
    "print(\"Variance:\",variance)"
   ]
  },
  {
   "cell_type": "markdown",
   "metadata": {},
   "source": [
    "### Standard Deviation <a class=\"anchor\" id=\"Standard Deviation\"></a>"
   ]
  },
  {
   "cell_type": "markdown",
   "metadata": {
    "collapsed": true
   },
   "source": [
    "\\begin{align}\n",
    "\\textbf{Population Standard Deviation} && \\textbf{Sample Standard Deviation} \\\\\n",
    "               \\sigma = \\sqrt{\\sigma^2} &&\n",
    "               S = \\sqrt{S^2}\n",
    "\\end{align}"
   ]
  },
  {
   "cell_type": "code",
   "execution_count": 138,
   "metadata": {},
   "outputs": [
    {
     "ename": "SyntaxError",
     "evalue": "invalid syntax (<ipython-input-138-280bf782d1f4>, line 2)",
     "output_type": "error",
     "traceback": [
      "\u001b[0;36m  File \u001b[0;32m\"<ipython-input-138-280bf782d1f4>\"\u001b[0;36m, line \u001b[0;32m2\u001b[0m\n\u001b[0;31m    print(\"Standard Deviation:\",standard_deviation)\u001b[0m\n\u001b[0m        ^\u001b[0m\n\u001b[0;31mSyntaxError\u001b[0m\u001b[0;31m:\u001b[0m invalid syntax\n"
     ]
    }
   ],
   "source": [
    "standard_deviation = np.sqrt(getVariance(right_skewed)\n",
    "print(\"Standard Deviation:\",standard_deviation)"
   ]
  },
  {
   "cell_type": "markdown",
   "metadata": {},
   "source": [
    "### Coefficient of Variation  <a class=\"anchor\" id=\"Coefficient of Variation\"></a>"
   ]
  },
  {
   "cell_type": "markdown",
   "metadata": {
    "collapsed": true
   },
   "source": [
    "- Reletive Standart Deviation\n",
    "\n",
    "\\begin{align}\n",
    "\\textbf{Population Standard Deviation} && \\textbf{Sample Standard Deviation} \\\\\n",
    "               C_v = \\frac{\\sigma}{\\mu} &&\n",
    "               \\hat{C_v} = \\frac{S}{\\bar{x}}\n",
    "\\end{align}"
   ]
  },
  {
   "cell_type": "code",
   "execution_count": 139,
   "metadata": {},
   "outputs": [
    {
     "name": "stdout",
     "output_type": "stream",
     "text": [
      "Coefficient of Variation : 0.9993901452747052\n"
     ]
    }
   ],
   "source": [
    "coefficient_of_variation = np.sqrt(getVariance(right_skewed))/right_skewed.mean()\n",
    "print(\"Coefficient of Variation :\",coefficient_of_variation)"
   ]
  },
  {
   "cell_type": "markdown",
   "metadata": {},
   "source": [
    "### Comparing Variance, Standard Deviation and Coefficient of Variation <a class=\"anchor\" id=\"comp\"></a>"
   ]
  },
  {
   "cell_type": "markdown",
   "metadata": {},
   "source": [
    "#### Pizza Slice Price in New York"
   ]
  },
  {
   "cell_type": "code",
   "execution_count": 140,
   "metadata": {},
   "outputs": [],
   "source": [
    "store = np.arange(10) + 1\n",
    "dollor = np.random.uniform(low=2, high=7, size=(10,))\n",
    "peso = dollor * 18.18\n",
    "data = np.concatenate(([store], [dollor], [peso]), axis = 0)"
   ]
  },
  {
   "cell_type": "code",
   "execution_count": 141,
   "metadata": {},
   "outputs": [
    {
     "name": "stdout",
     "output_type": "stream",
     "text": [
      "   Store  Dollor    Peso\n",
      "0    1.0    3.34   60.79\n",
      "1    2.0    3.39   61.60\n",
      "2    3.0    3.82   69.51\n",
      "3    4.0    6.49  117.96\n",
      "4    5.0    4.90   89.05\n",
      "5    6.0    4.95   90.03\n",
      "6    7.0    5.53  100.60\n",
      "7    8.0    3.01   54.66\n",
      "8    9.0    5.42   98.48\n",
      "9   10.0    6.11  111.17\n"
     ]
    }
   ],
   "source": [
    "print (pd.DataFrame(np.round(data.T,2), columns=['Store',\"Dollor\",\"Peso\"]))"
   ]
  },
  {
   "cell_type": "code",
   "execution_count": 146,
   "metadata": {},
   "outputs": [
    {
     "name": "stdout",
     "output_type": "stream",
     "text": [
      "                          Dollor    Peso\n",
      "Mean                        4.70   85.38\n",
      "Variation                   1.37  453.00\n",
      "Standard Deviation          1.17   21.28\n",
      "Coefficient of Variation    0.25    0.25\n",
      "\n",
      "*Notice how the coefficient of Variation are the same value between dollors and pesos.\n"
     ]
    }
   ],
   "source": [
    "means = np.array([dollor.mean(),peso.mean()])\n",
    "variances = np.array([getVariance(dollor),getVariance(peso)])\n",
    "standard_deviations = np.sqrt(variances)\n",
    "coefficient_of_variation = np.array([standard_deviations[0]/dollor.mean(), standard_deviations[1]/peso.mean()])\n",
    "\n",
    "comp = np.concatenate(([means], [variances], [standard_deviations], [coefficient_of_variation]), axis = 0)\n",
    "\n",
    "print(pd.DataFrame(np.round(comp,2), columns=[\"Dollor\",\"Peso\"], index=['Mean','Variation','Standard Deviation','Coefficient of Variation']))\n",
    "print(\"\\n*Notice how the coefficient of Variation are the same value between dollors and pesos.\")"
   ]
  },
  {
   "cell_type": "code",
   "execution_count": null,
   "metadata": {},
   "outputs": [],
   "source": []
  },
  {
   "cell_type": "code",
   "execution_count": null,
   "metadata": {},
   "outputs": [],
   "source": []
  }
 ],
 "metadata": {
  "kernelspec": {
   "display_name": "Python 3",
   "language": "python",
   "name": "python3"
  },
  "language_info": {
   "codemirror_mode": {
    "name": "ipython",
    "version": 3
   },
   "file_extension": ".py",
   "mimetype": "text/x-python",
   "name": "python",
   "nbconvert_exporter": "python",
   "pygments_lexer": "ipython3",
   "version": "3.6.4"
  }
 },
 "nbformat": 4,
 "nbformat_minor": 2
}

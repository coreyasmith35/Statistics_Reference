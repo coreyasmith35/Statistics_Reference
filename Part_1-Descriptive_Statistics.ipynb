{
 "cells": [
  {
   "cell_type": "markdown",
   "metadata": {},
   "source": [
    "# Statistics Reference Part 1 - Discriptive Statisticas"
   ]
  },
  {
   "cell_type": "markdown",
   "metadata": {},
   "source": [
    "## Table of Contents:\n",
    "* [Types of Skew](#skew)\n",
    "* [Variance](#Variance)\n",
    "* [Standard Deviation](#Standard Deviation)\n",
    "* [Coefficient of Variation](#Coefficient of Variation)\n",
    "* [Comparing Variance, Standard Deviation and Coefficient of Variation](#comp)\n",
    "* [Covariance](#Covariance)\n",
    "* [Correlation Coefficient](#Correlation Coefficient)\n",
    "* [Numpy/scipy Functions](#Numpy Functions)"
   ]
  },
  {
   "cell_type": "markdown",
   "metadata": {},
   "source": [
    "| <h3>Population (N)</h3> | <h3>Sample (n)</h3>\n",
    "| :--------------------------------- | :-\n",
    "| Collection of all items of interest in the study | A subset of the poulation\n",
    "| Paramaters | Statistics"
   ]
  },
  {
   "cell_type": "markdown",
   "metadata": {},
   "source": [
    "## Types of Skew <a class=\"anchor\" id=\"skew\"></a>"
   ]
  },
  {
   "cell_type": "code",
   "execution_count": 1,
   "metadata": {},
   "outputs": [
    {
     "data": {
      "text/plain": [
       "Text(0.5,1,'Left Skewed')"
      ]
     },
     "execution_count": 1,
     "metadata": {},
     "output_type": "execute_result"
    },
    {
     "data": {
      "image/png": "[encoded data removed]",
      "text/plain": [
       "<matplotlib.figure.Figure at 0x10a111208>"
      ]
     },
     "metadata": {},
     "output_type": "display_data"
    }
   ],
   "source": [
    "import numpy as np\n",
    "import matplotlib.pyplot as plt\n",
    "import pandas as pd\n",
    "%matplotlib inline\n",
    "\n",
    "right_skewed = np.random.exponential(size = 1000)\n",
    "normal_skewed = np.random.normal(size=1000)\n",
    "left_skewed = -np.random.exponential(size=1000)\n",
    "\n",
    "\n",
    "# plot both together to compare\n",
    "fig, ax=plt.subplots(1,3)\n",
    "ax[0].hist(right_skewed, bins=20)\n",
    "ax[0].set_title(\"Right Skewed\")\n",
    "ax[1].hist(normal_skewed, bins=20)\n",
    "ax[1].set_title(\"Normal\")\n",
    "ax[2].hist(left_skewed, bins=20)\n",
    "ax[2].set_title(\"Left Skewed\")"
   ]
  },
  {
   "cell_type": "code",
   "execution_count": 2,
   "metadata": {},
   "outputs": [
    {
     "name": "stdout",
     "output_type": "stream",
     "text": [
      "right_skewed skewness: 1.9724819867436068\n",
      "normal_skewed skewness: 0.015175372943776034\n",
      "left_skewed skewness: -2.1660264800509674\n"
     ]
    }
   ],
   "source": [
    "from scipy.stats import skew\n",
    "print('right_skewed skewness:', skew(right_skewed))\n",
    "print('normal_skewed skewness:', skew(normal_skewed))\n",
    "print('left_skewed skewness:', skew(left_skewed))"
   ]
  },
  {
   "cell_type": "markdown",
   "metadata": {},
   "source": [
    "## Variance <a class=\"anchor\" id=\"Variance\"></a>"
   ]
  },
  {
   "cell_type": "markdown",
   "metadata": {},
   "source": [
    " - measures the dispersion of a set of data points around their mean."
   ]
  },
  {
   "cell_type": "markdown",
   "metadata": {},
   "source": [
    "\n",
    "\n",
    "\\begin{align}\n",
    "\\textbf{Population Variance} && \\textbf{Sample Variance} \\\\\n",
    "               \\sigma^2 = \\frac{\\sum_{i=1}^N (x_i-\\mu)^2}{N} &&\n",
    "               S^2 = \\frac{\\sum_{i=1}^n (x_i-\\bar{x})^2}{n-1}\n",
    "\\end{align}\n"
   ]
  },
  {
   "cell_type": "code",
   "execution_count": 3,
   "metadata": {},
   "outputs": [],
   "source": [
    "def getVariance(data, isSample = True):\n",
    "    \"\"\" Paramaters: \n",
    "            - np.array, contains the data\n",
    "            - isSample, determants to calculate sample or population variance\n",
    "        Returns: Variance\"\"\"\n",
    "    \n",
    "    mean = data.mean()\n",
    "    numerator = 0\n",
    "    \n",
    "    for num in data:\n",
    "        numerator += (num - mean)**2\n",
    "    \n",
    "    if isSample:\n",
    "        variance = numerator/data.size - 1\n",
    "    else :\n",
    "        variance = numerator/data.size\n",
    "    \n",
    "    return variance"
   ]
  },
  {
   "cell_type": "code",
   "execution_count": 4,
   "metadata": {},
   "outputs": [
    {
     "name": "stdout",
     "output_type": "stream",
     "text": [
      "Variance: 0.03696275949726169\n"
     ]
    }
   ],
   "source": [
    "variance = getVariance(right_skewed)\n",
    "print(\"Variance:\",variance)"
   ]
  },
  {
   "cell_type": "markdown",
   "metadata": {},
   "source": [
    "### Standard Deviation <a class=\"anchor\" id=\"Standard Deviation\"></a>"
   ]
  },
  {
   "cell_type": "markdown",
   "metadata": {},
   "source": [
    "\\begin{align}\n",
    "\\textbf{Population Standard Deviation} && \\textbf{Sample Standard Deviation} \\\\\n",
    "               \\sigma = \\sqrt{\\sigma^2} &&\n",
    "               S = \\sqrt{S^2}\n",
    "\\end{align}"
   ]
  },
  {
   "cell_type": "code",
   "execution_count": 5,
   "metadata": {},
   "outputs": [
    {
     "name": "stdout",
     "output_type": "stream",
     "text": [
      "Standard Deviation: 0.19225701416921487\n"
     ]
    }
   ],
   "source": [
    "standard_deviation = np.sqrt(getVariance(right_skewed))\n",
    "print('Standard Deviation:', standard_deviation)"
   ]
  },
  {
   "cell_type": "markdown",
   "metadata": {},
   "source": [
    "### Coefficient of Variation  <a class=\"anchor\" id=\"Coefficient of Variation\"></a>"
   ]
  },
  {
   "cell_type": "markdown",
   "metadata": {},
   "source": [
    "- Reletive Standart Deviation\n",
    "\n",
    "\\begin{align}\n",
    "\\textbf{Population Standard Deviation} && \\textbf{Sample Standard Deviation} \\\\\n",
    "               C_v = \\frac{\\sigma}{\\mu} &&\n",
    "               \\hat{C_v} = \\frac{S}{\\bar{x}}\n",
    "\\end{align}"
   ]
  },
  {
   "cell_type": "code",
   "execution_count": 6,
   "metadata": {},
   "outputs": [
    {
     "name": "stdout",
     "output_type": "stream",
     "text": [
      "Coefficient of Variation : 0.19259905385950388\n"
     ]
    }
   ],
   "source": [
    "coefficient_of_variation = np.sqrt(getVariance(right_skewed))/right_skewed.mean()\n",
    "print(\"Coefficient of Variation :\",coefficient_of_variation)"
   ]
  },
  {
   "cell_type": "markdown",
   "metadata": {},
   "source": [
    "### Comparing Variance, Standard Deviation and Coefficient of Variation <a class=\"anchor\" id=\"comp\"></a>"
   ]
  },
  {
   "cell_type": "markdown",
   "metadata": {},
   "source": [
    "#### Pizza Slice Price in New York"
   ]
  },
  {
   "cell_type": "code",
   "execution_count": 7,
   "metadata": {},
   "outputs": [],
   "source": [
    "# Generate some data\n",
    "store = np.arange(10) + 1\n",
    "dollor = np.random.uniform(low=2, high=7, size=(10,))\n",
    "peso = dollor * 18.18\n",
    "data = np.concatenate(([store], [dollor], [peso]), axis = 0)"
   ]
  },
  {
   "cell_type": "code",
   "execution_count": 8,
   "metadata": {},
   "outputs": [
    {
     "name": "stdout",
     "output_type": "stream",
     "text": [
      "   Store  Dollor    Peso\n",
      "0    1.0    6.36  115.62\n",
      "1    2.0    3.13   56.83\n",
      "2    3.0    5.82  105.83\n",
      "3    4.0    6.69  121.63\n",
      "4    5.0    2.96   53.75\n",
      "5    6.0    3.81   69.25\n",
      "6    7.0    3.33   60.60\n",
      "7    8.0    2.38   43.22\n",
      "8    9.0    5.85  106.28\n",
      "9   10.0    5.56  101.00\n"
     ]
    }
   ],
   "source": [
    "print (pd.DataFrame(np.round(data.T,2), columns=['Store',\"Dollor\",\"Peso\"]))"
   ]
  },
  {
   "cell_type": "code",
   "execution_count": 9,
   "metadata": {},
   "outputs": [
    {
     "name": "stdout",
     "output_type": "stream",
     "text": [
      "                          Dollor    Peso\n",
      "Mean                        4.59   83.40\n",
      "Variation                   1.35  774.58\n",
      "Standard Deviation          1.16   27.83\n",
      "Coefficient of Variation    0.25    0.33\n",
      "\n",
      "*Notice how the coefficient of Variation are the same value between dollors and pesos.\n"
     ]
    }
   ],
   "source": [
    "# Calculate mean, var, std, and cov and store ina pandas df to be printed\n",
    "means = np.array([dollor.mean(),peso.mean()])\n",
    "variances = np.array([getVariance(dollor),getVariance(peso)])\n",
    "standard_deviations = np.sqrt(variances)\n",
    "coefficient_of_variation = np.array([standard_deviations[0]/dollor.mean(), standard_deviations[1]/peso.mean()])\n",
    "\n",
    "comp = np.concatenate(([means], [variances], [standard_deviations], [coefficient_of_variation]), axis = 0)\n",
    "\n",
    "print(pd.DataFrame(np.round(comp,2), columns=[\"Dollor\",\"Peso\"], index=['Mean','Variation','Standard Deviation','Coefficient of Variation']))\n",
    "print(\"\\n*Notice how the coefficient of Variation are the same value between dollors and pesos.\")"
   ]
  },
  {
   "cell_type": "markdown",
   "metadata": {},
   "source": [
    "### Covariance  <a class=\"anchor\" id=\"Covariance\"></a>"
   ]
  },
  {
   "cell_type": "markdown",
   "metadata": {},
   "source": [
    " - Gives a scence of direction the two varables are moving."
   ]
  },
  {
   "cell_type": "markdown",
   "metadata": {},
   "source": [
    "\\begin{align}\n",
    "\\textbf{Population Variance} && \\textbf{Sample Variance} \\\\\n",
    "               \\sigma_{xy} = \\frac{\\sum_{i=1}^N (x_i - \\bar{x})(y_i-\\bar{y})}{N} &&\n",
    "               S_{xy} = \\frac{\\sum_{i=1}^n (x_i - \\bar{x})(y_i-\\bar{y})}{n-1}\n",
    "\\end{align}"
   ]
  },
  {
   "cell_type": "code",
   "execution_count": 10,
   "metadata": {},
   "outputs": [
    {
     "data": {
      "text/plain": [
       "Text(0,0.5,'y_data')"
      ]
     },
     "execution_count": 10,
     "metadata": {},
     "output_type": "execute_result"
    },
    {
     "data": {
      "image/png": "[encoded data removed]",
      "text/plain": [
       "<matplotlib.figure.Figure at 0x1a0f837f98>"
      ]
     },
     "metadata": {},
     "output_type": "display_data"
    }
   ],
   "source": [
    "# Generate some example data\n",
    "x_data = np.linspace(0.0,10.0,100)\n",
    "noise = np.random.randn(len(x_data))\n",
    "y_data =  (0.5 * x_data ) + 5 + noise\n",
    "\n",
    "# Plot the data\n",
    "plt.scatter(x_data,y_data)\n",
    "plt.xlabel('x_data')\n",
    "plt.ylabel('y_data')"
   ]
  },
  {
   "cell_type": "code",
   "execution_count": 11,
   "metadata": {},
   "outputs": [],
   "source": [
    "def get_covariance(x_data, y_data, isSample = True):\n",
    "    \"\"\" Paramaters: \n",
    "            - x and y data as a np.array\n",
    "            - isSample, determants to calculate sample or population variance\n",
    "        Returns: covariance\"\"\"\n",
    "    \n",
    "    # check to see if x_data and y_data are same size\n",
    "    if x_data.shape != y_data.shape:\n",
    "        raise ValueError('The shape of x and y does not match.')\n",
    "     \n",
    "    numerator = 0\n",
    "    \n",
    "    for x,y in zip(x_data,y_data):\n",
    "        numerator += (x - x_data.mean()) * (y - y_data.mean())\n",
    "        \n",
    "    if isSample:\n",
    "        return numerator / (len(x_data) - 1)\n",
    "    else:\n",
    "        return numerator / len(x_data)\n",
    "        "
   ]
  },
  {
   "cell_type": "code",
   "execution_count": 12,
   "metadata": {},
   "outputs": [
    {
     "name": "stdout",
     "output_type": "stream",
     "text": [
      "The covariance of x_data and y_data is: 4.523689835198729\n"
     ]
    }
   ],
   "source": [
    "# Calculate the Covariance\n",
    "cov = get_covariance(x_data, y_data)\n",
    "print(\"The covariance of x_data and y_data is:\", cov)"
   ]
  },
  {
   "cell_type": "markdown",
   "metadata": {},
   "source": [
    "### Correlation Coefficient <a class=\"anchor\" id=\"Correlation Coefficient\"></a>"
   ]
  },
  {
   "cell_type": "markdown",
   "metadata": {},
   "source": [
    " - Nomalizes covariance"
   ]
  },
  {
   "cell_type": "markdown",
   "metadata": {},
   "source": [
    "\\begin{align}\n",
    "\\textbf{Populationv Correlation Coefficient} && \\textbf{Sample Correlation Coefficient} \\\\\n",
    "               \\frac{Cov(x,y)}{Stdev(x)*Stdev(y)} = \\frac{\\sigma_{xy}}{\\sigma_x*\\sigma_y} &&\n",
    "               \\frac{Cov(x,y)}{Stdev(x)*Stdev(y)} = \\frac{S_{xy}}{S_x*S_y}\n",
    "\\end{align}"
   ]
  },
  {
   "cell_type": "code",
   "execution_count": 13,
   "metadata": {},
   "outputs": [
    {
     "name": "stdout",
     "output_type": "stream",
     "text": [
      "The Correlation Coefficient of x_data and y_data is: 1.0489892255205617\n"
     ]
    }
   ],
   "source": [
    "# Calculate the Correlation Coefficient \n",
    "cov = get_covariance(x_data, y_data)\n",
    "correlation_coefficient = cov/(np.sqrt(getVariance(x_data)) * np.sqrt(getVariance(y_data)))\n",
    "print(\"The Correlation Coefficient of x_data and y_data is:\", correlation_coefficient)"
   ]
  },
  {
   "cell_type": "markdown",
   "metadata": {},
   "source": [
    "### Numpy Functions  <a class=\"anchor\" id=\"Numpy Functions\"></a>"
   ]
  },
  {
   "cell_type": "markdown",
   "metadata": {},
   "source": [
    " - Skew [scipy.stats.skew](https://docs.scipy.org/doc/scipy/reference/generated/scipy.stats.skew.html)\n",
    " - Variance [numpy.var](https://docs.scipy.org/doc/numpy/reference/generated/numpy.var.html)\n",
    " - Standard Deviation [numpy.std](https://docs.scipy.org/doc/numpy-1.13.0/reference/generated/numpy.std.html)\n",
    " -  Coefficient of Variation [scipy.stats.variation](https://docs.scipy.org/doc/scipy/reference/generated/scipy.stats.variation.html)\n",
    " - Covariance [numpy.cov](https://docs.scipy.org/doc/numpy/reference/generated/numpy.cov.html)\n",
    " -  Correlation Coefficient[numpy.corrcoef](https://docs.scipy.org/doc/numpy-1.13.0/reference/generated/numpy.corrcoef.html)"
   ]
  }
 ],
 "metadata": {
  "kernelspec": {
   "display_name": "Python 3",
   "language": "python",
   "name": "python3"
  },
  "language_info": {
   "codemirror_mode": {
    "name": "ipython",
    "version": 3
   },
   "file_extension": ".py",
   "mimetype": "text/x-python",
   "name": "python",
   "nbconvert_exporter": "python",
   "pygments_lexer": "ipython3",
   "version": "3.6.4"
  }
 },
 "nbformat": 4,
 "nbformat_minor": 2
}
